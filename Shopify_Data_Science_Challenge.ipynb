{
  "nbformat": 4,
  "nbformat_minor": 0,
  "metadata": {
    "colab": {
      "name": "Shopify Data Science Challenge",
      "provenance": [],
      "collapsed_sections": [
        "yIgc_2bFOIez"
      ],
      "toc_visible": true
    },
    "kernelspec": {
      "name": "python3",
      "display_name": "Python 3"
    },
    "language_info": {
      "name": "python"
    }
  },
  "cells": [
    {
      "cell_type": "markdown",
      "metadata": {
        "id": "ShoDZSS7X_8s"
      },
      "source": [
        "# Question 1"
      ]
    },
    {
      "cell_type": "markdown",
      "metadata": {
        "id": "YsvKQEiQ5WD0"
      },
      "source": [
        "On Shopify, we have exactly 100 sneaker shops, and each of these shops sells only one model of shoe. We want to do some analysis of the average order value (AOV). When we look at orders data over a 30 day window, we naively calculate an AOV of $3145.13. Given that we know these shops are selling sneakers, a relatively affordable item, something seems wrong with our analysis. \n",
        "\n",
        "1. Think about what could be going wrong with our calculation. Think about a better way to evaluate this data. \n",
        "2. What metric would you report for this dataset?\n",
        "3. What is its value?\n"
      ]
    },
    {
      "cell_type": "markdown",
      "metadata": {
        "id": "lxIj-DMqhyhb"
      },
      "source": [
        "A quick glance at the google sheet shows that there are a few instances of a customer ordering 2000 total items. Let's take a look at the distribution of the data to understand the data better."
      ]
    },
    {
      "cell_type": "markdown",
      "metadata": {
        "id": "x26QiD6yW2TE"
      },
      "source": [
        "### Import [Shopify Sneaker Data Set](https://docs.google.com/spreadsheets/d/16i38oonuX1y1g7C_UAmiK9GkY7cS-64DfiDMNiR41LM/edit#gid=0)"
      ]
    },
    {
      "cell_type": "code",
      "metadata": {
        "colab": {
          "base_uri": "https://localhost:8080/",
          "height": 416
        },
        "id": "HG5WHN5wWUOm",
        "outputId": "c5367b8c-db8a-411d-95dc-e6242948ad5a"
      },
      "source": [
        "from google.colab import auth\n",
        "auth.authenticate_user()\n",
        "\n",
        "import gspread\n",
        "from oauth2client.client import GoogleCredentials\n",
        "\n",
        "gc = gspread.authorize(GoogleCredentials.get_application_default())\n",
        "\n",
        "worksheet = gc.open('2019 Winter Data Science Intern Challenge Data Set').sheet1\n",
        "\n",
        "# get_all_values gives a list of rows.\n",
        "rows = worksheet.get_all_values()\n",
        "\n",
        "# Convert to a DataFrame and render.\n",
        "import pandas as pd\n",
        "sneakers = pd.DataFrame.from_records(rows)\n",
        "sneakers"
      ],
      "execution_count": null,
      "outputs": [
        {
          "output_type": "execute_result",
          "data": {
            "text/html": [
              "<div>\n",
              "<style scoped>\n",
              "    .dataframe tbody tr th:only-of-type {\n",
              "        vertical-align: middle;\n",
              "    }\n",
              "\n",
              "    .dataframe tbody tr th {\n",
              "        vertical-align: top;\n",
              "    }\n",
              "\n",
              "    .dataframe thead th {\n",
              "        text-align: right;\n",
              "    }\n",
              "</style>\n",
              "<table border=\"1\" class=\"dataframe\">\n",
              "  <thead>\n",
              "    <tr style=\"text-align: right;\">\n",
              "      <th></th>\n",
              "      <th>0</th>\n",
              "      <th>1</th>\n",
              "      <th>2</th>\n",
              "      <th>3</th>\n",
              "      <th>4</th>\n",
              "      <th>5</th>\n",
              "      <th>6</th>\n",
              "    </tr>\n",
              "  </thead>\n",
              "  <tbody>\n",
              "    <tr>\n",
              "      <th>0</th>\n",
              "      <td>order_id</td>\n",
              "      <td>shop_id</td>\n",
              "      <td>user_id</td>\n",
              "      <td>order_amount</td>\n",
              "      <td>total_items</td>\n",
              "      <td>payment_method</td>\n",
              "      <td>created_at</td>\n",
              "    </tr>\n",
              "    <tr>\n",
              "      <th>1</th>\n",
              "      <td>1</td>\n",
              "      <td>53</td>\n",
              "      <td>746</td>\n",
              "      <td>224</td>\n",
              "      <td>2</td>\n",
              "      <td>cash</td>\n",
              "      <td>2017-03-13 12:36:56</td>\n",
              "    </tr>\n",
              "    <tr>\n",
              "      <th>2</th>\n",
              "      <td>2</td>\n",
              "      <td>92</td>\n",
              "      <td>925</td>\n",
              "      <td>90</td>\n",
              "      <td>1</td>\n",
              "      <td>cash</td>\n",
              "      <td>2017-03-03 17:38:52</td>\n",
              "    </tr>\n",
              "    <tr>\n",
              "      <th>3</th>\n",
              "      <td>3</td>\n",
              "      <td>44</td>\n",
              "      <td>861</td>\n",
              "      <td>144</td>\n",
              "      <td>1</td>\n",
              "      <td>cash</td>\n",
              "      <td>2017-03-14 4:23:56</td>\n",
              "    </tr>\n",
              "    <tr>\n",
              "      <th>4</th>\n",
              "      <td>4</td>\n",
              "      <td>18</td>\n",
              "      <td>935</td>\n",
              "      <td>156</td>\n",
              "      <td>1</td>\n",
              "      <td>credit_card</td>\n",
              "      <td>2017-03-26 12:43:37</td>\n",
              "    </tr>\n",
              "    <tr>\n",
              "      <th>...</th>\n",
              "      <td>...</td>\n",
              "      <td>...</td>\n",
              "      <td>...</td>\n",
              "      <td>...</td>\n",
              "      <td>...</td>\n",
              "      <td>...</td>\n",
              "      <td>...</td>\n",
              "    </tr>\n",
              "    <tr>\n",
              "      <th>4996</th>\n",
              "      <td>4996</td>\n",
              "      <td>73</td>\n",
              "      <td>993</td>\n",
              "      <td>330</td>\n",
              "      <td>2</td>\n",
              "      <td>debit</td>\n",
              "      <td>2017-03-30 13:47:17</td>\n",
              "    </tr>\n",
              "    <tr>\n",
              "      <th>4997</th>\n",
              "      <td>4997</td>\n",
              "      <td>48</td>\n",
              "      <td>789</td>\n",
              "      <td>234</td>\n",
              "      <td>2</td>\n",
              "      <td>cash</td>\n",
              "      <td>2017-03-16 20:36:16</td>\n",
              "    </tr>\n",
              "    <tr>\n",
              "      <th>4998</th>\n",
              "      <td>4998</td>\n",
              "      <td>56</td>\n",
              "      <td>867</td>\n",
              "      <td>351</td>\n",
              "      <td>3</td>\n",
              "      <td>cash</td>\n",
              "      <td>2017-03-19 5:42:42</td>\n",
              "    </tr>\n",
              "    <tr>\n",
              "      <th>4999</th>\n",
              "      <td>4999</td>\n",
              "      <td>60</td>\n",
              "      <td>825</td>\n",
              "      <td>354</td>\n",
              "      <td>2</td>\n",
              "      <td>credit_card</td>\n",
              "      <td>2017-03-16 14:51:18</td>\n",
              "    </tr>\n",
              "    <tr>\n",
              "      <th>5000</th>\n",
              "      <td>5000</td>\n",
              "      <td>44</td>\n",
              "      <td>734</td>\n",
              "      <td>288</td>\n",
              "      <td>2</td>\n",
              "      <td>debit</td>\n",
              "      <td>2017-03-18 15:48:18</td>\n",
              "    </tr>\n",
              "  </tbody>\n",
              "</table>\n",
              "<p>5001 rows × 7 columns</p>\n",
              "</div>"
            ],
            "text/plain": [
              "             0        1  ...               5                    6\n",
              "0     order_id  shop_id  ...  payment_method           created_at\n",
              "1            1       53  ...            cash  2017-03-13 12:36:56\n",
              "2            2       92  ...            cash  2017-03-03 17:38:52\n",
              "3            3       44  ...            cash   2017-03-14 4:23:56\n",
              "4            4       18  ...     credit_card  2017-03-26 12:43:37\n",
              "...        ...      ...  ...             ...                  ...\n",
              "4996      4996       73  ...           debit  2017-03-30 13:47:17\n",
              "4997      4997       48  ...            cash  2017-03-16 20:36:16\n",
              "4998      4998       56  ...            cash   2017-03-19 5:42:42\n",
              "4999      4999       60  ...     credit_card  2017-03-16 14:51:18\n",
              "5000      5000       44  ...           debit  2017-03-18 15:48:18\n",
              "\n",
              "[5001 rows x 7 columns]"
            ]
          },
          "metadata": {
            "tags": []
          },
          "execution_count": 32
        }
      ]
    },
    {
      "cell_type": "markdown",
      "metadata": {
        "id": "990DfEvEzVl3"
      },
      "source": [
        "If you take a look, the data has our desired headers as the first row of the dataframe. Let's fix that."
      ]
    },
    {
      "cell_type": "code",
      "metadata": {
        "colab": {
          "base_uri": "https://localhost:8080/",
          "height": 202
        },
        "id": "9j62_tLrzjMZ",
        "outputId": "1ecef828-f47f-4ca0-a1dc-f3f84fcb4618"
      },
      "source": [
        "# Grab the first row for the header\n",
        "headers = sneakers.iloc[0]\n",
        "# Take the data less the header row\n",
        "sneakers = sneakers[1:]\n",
        "# Set the header row as the df header\n",
        "sneakers.columns = headers\n",
        "sneakers.head()"
      ],
      "execution_count": null,
      "outputs": [
        {
          "output_type": "execute_result",
          "data": {
            "text/html": [
              "<div>\n",
              "<style scoped>\n",
              "    .dataframe tbody tr th:only-of-type {\n",
              "        vertical-align: middle;\n",
              "    }\n",
              "\n",
              "    .dataframe tbody tr th {\n",
              "        vertical-align: top;\n",
              "    }\n",
              "\n",
              "    .dataframe thead th {\n",
              "        text-align: right;\n",
              "    }\n",
              "</style>\n",
              "<table border=\"1\" class=\"dataframe\">\n",
              "  <thead>\n",
              "    <tr style=\"text-align: right;\">\n",
              "      <th></th>\n",
              "      <th>order_id</th>\n",
              "      <th>shop_id</th>\n",
              "      <th>user_id</th>\n",
              "      <th>order_amount</th>\n",
              "      <th>total_items</th>\n",
              "      <th>payment_method</th>\n",
              "      <th>created_at</th>\n",
              "    </tr>\n",
              "  </thead>\n",
              "  <tbody>\n",
              "    <tr>\n",
              "      <th>1</th>\n",
              "      <td>1</td>\n",
              "      <td>53</td>\n",
              "      <td>746</td>\n",
              "      <td>224</td>\n",
              "      <td>2</td>\n",
              "      <td>cash</td>\n",
              "      <td>2017-03-13 12:36:56</td>\n",
              "    </tr>\n",
              "    <tr>\n",
              "      <th>2</th>\n",
              "      <td>2</td>\n",
              "      <td>92</td>\n",
              "      <td>925</td>\n",
              "      <td>90</td>\n",
              "      <td>1</td>\n",
              "      <td>cash</td>\n",
              "      <td>2017-03-03 17:38:52</td>\n",
              "    </tr>\n",
              "    <tr>\n",
              "      <th>3</th>\n",
              "      <td>3</td>\n",
              "      <td>44</td>\n",
              "      <td>861</td>\n",
              "      <td>144</td>\n",
              "      <td>1</td>\n",
              "      <td>cash</td>\n",
              "      <td>2017-03-14 4:23:56</td>\n",
              "    </tr>\n",
              "    <tr>\n",
              "      <th>4</th>\n",
              "      <td>4</td>\n",
              "      <td>18</td>\n",
              "      <td>935</td>\n",
              "      <td>156</td>\n",
              "      <td>1</td>\n",
              "      <td>credit_card</td>\n",
              "      <td>2017-03-26 12:43:37</td>\n",
              "    </tr>\n",
              "    <tr>\n",
              "      <th>5</th>\n",
              "      <td>5</td>\n",
              "      <td>18</td>\n",
              "      <td>883</td>\n",
              "      <td>156</td>\n",
              "      <td>1</td>\n",
              "      <td>credit_card</td>\n",
              "      <td>2017-03-01 4:35:11</td>\n",
              "    </tr>\n",
              "  </tbody>\n",
              "</table>\n",
              "</div>"
            ],
            "text/plain": [
              "0 order_id shop_id user_id  ... total_items payment_method           created_at\n",
              "1        1      53     746  ...           2           cash  2017-03-13 12:36:56\n",
              "2        2      92     925  ...           1           cash  2017-03-03 17:38:52\n",
              "3        3      44     861  ...           1           cash   2017-03-14 4:23:56\n",
              "4        4      18     935  ...           1    credit_card  2017-03-26 12:43:37\n",
              "5        5      18     883  ...           1    credit_card   2017-03-01 4:35:11\n",
              "\n",
              "[5 rows x 7 columns]"
            ]
          },
          "metadata": {
            "tags": []
          },
          "execution_count": 33
        }
      ]
    },
    {
      "cell_type": "markdown",
      "metadata": {
        "id": "3Op68XxoFhWl"
      },
      "source": [
        "Great! Now, let's confirm the AOV is approximately 3000 $."
      ]
    },
    {
      "cell_type": "code",
      "metadata": {
        "colab": {
          "base_uri": "https://localhost:8080/"
        },
        "id": "hefjba1xFg-k",
        "outputId": "4ffd87b3-5589-4283-ab60-332a3558e529"
      },
      "source": [
        "round(sneakers.loc[:,'order_amount'].sum(axis = 0)/len(sneakers), 2)"
      ],
      "execution_count": null,
      "outputs": [
        {
          "output_type": "execute_result",
          "data": {
            "text/plain": [
              "3145.13"
            ]
          },
          "metadata": {
            "tags": []
          },
          "execution_count": 48
        }
      ]
    },
    {
      "cell_type": "markdown",
      "metadata": {
        "id": "nG7drpZ3GfSR"
      },
      "source": [
        "Awesome. Now that all that's set let's take a look at the data.\n"
      ]
    },
    {
      "cell_type": "markdown",
      "metadata": {
        "id": "ytDVcJo6tIjU"
      },
      "source": [
        "## Explore the data"
      ]
    },
    {
      "cell_type": "markdown",
      "metadata": {
        "id": "YQXjCEU-uZ63"
      },
      "source": [
        "Let's take a look at the type of data we're working with"
      ]
    },
    {
      "cell_type": "code",
      "metadata": {
        "colab": {
          "base_uri": "https://localhost:8080/"
        },
        "id": "Zp4p-80juDXb",
        "outputId": "6815e095-742a-4154-ecd9-bf3bd2a1043f"
      },
      "source": [
        "sneakers.info()"
      ],
      "execution_count": null,
      "outputs": [
        {
          "output_type": "stream",
          "text": [
            "<class 'pandas.core.frame.DataFrame'>\n",
            "RangeIndex: 5000 entries, 1 to 5000\n",
            "Data columns (total 7 columns):\n",
            " #   Column          Non-Null Count  Dtype \n",
            "---  ------          --------------  ----- \n",
            " 0   order_id        5000 non-null   object\n",
            " 1   shop_id         5000 non-null   object\n",
            " 2   user_id         5000 non-null   object\n",
            " 3   order_amount    5000 non-null   object\n",
            " 4   total_items     5000 non-null   object\n",
            " 5   payment_method  5000 non-null   object\n",
            " 6   created_at      5000 non-null   object\n",
            "dtypes: object(7)\n",
            "memory usage: 273.6+ KB\n"
          ],
          "name": "stdout"
        }
      ]
    },
    {
      "cell_type": "markdown",
      "metadata": {
        "id": "0iuorM5vudpT"
      },
      "source": [
        "The data types of each column are objects however, we want to create distributions of some of the columns, namely the shop_id (to gauge the traffic at each shop), order_amount (to gauge the total costs of orders) and the total_items (to gauge the amount of items per order). The latter is of particular interest as it is used to calculate AOV via:"
      ]
    },
    {
      "cell_type": "markdown",
      "metadata": {
        "id": "4vsGYHKIvNUr"
      },
      "source": [
        "Therefore, let's first convert the objects to numerical data which is simply through the use of the to_numeric() method included in pandas"
      ]
    },
    {
      "cell_type": "code",
      "metadata": {
        "colab": {
          "base_uri": "https://localhost:8080/"
        },
        "id": "-Zt1dyJ6vnJ6",
        "outputId": "a3c2446a-ca3e-453e-cc64-014b4814c2a0"
      },
      "source": [
        "sneakers[\"shop_id\"] = pd.to_numeric(sneakers.loc[:,'shop_id'])\n",
        "sneakers[\"order_amount\"] = pd.to_numeric(sneakers.loc[:,'order_amount'])\n",
        "sneakers[\"total_items\"] = pd.to_numeric(sneakers.loc[:,'total_items'])\n",
        "sneakers.info()"
      ],
      "execution_count": null,
      "outputs": [
        {
          "output_type": "stream",
          "text": [
            "<class 'pandas.core.frame.DataFrame'>\n",
            "RangeIndex: 5000 entries, 1 to 5000\n",
            "Data columns (total 7 columns):\n",
            " #   Column          Non-Null Count  Dtype \n",
            "---  ------          --------------  ----- \n",
            " 0   order_id        5000 non-null   object\n",
            " 1   shop_id         5000 non-null   int64 \n",
            " 2   user_id         5000 non-null   object\n",
            " 3   order_amount    5000 non-null   int64 \n",
            " 4   total_items     5000 non-null   int64 \n",
            " 5   payment_method  5000 non-null   object\n",
            " 6   created_at      5000 non-null   object\n",
            "dtypes: int64(3), object(4)\n",
            "memory usage: 273.6+ KB\n"
          ],
          "name": "stdout"
        },
        {
          "output_type": "stream",
          "text": [
            "/usr/local/lib/python3.7/dist-packages/ipykernel_launcher.py:1: SettingWithCopyWarning: \n",
            "A value is trying to be set on a copy of a slice from a DataFrame.\n",
            "Try using .loc[row_indexer,col_indexer] = value instead\n",
            "\n",
            "See the caveats in the documentation: https://pandas.pydata.org/pandas-docs/stable/user_guide/indexing.html#returning-a-view-versus-a-copy\n",
            "  \"\"\"Entry point for launching an IPython kernel.\n",
            "/usr/local/lib/python3.7/dist-packages/ipykernel_launcher.py:2: SettingWithCopyWarning: \n",
            "A value is trying to be set on a copy of a slice from a DataFrame.\n",
            "Try using .loc[row_indexer,col_indexer] = value instead\n",
            "\n",
            "See the caveats in the documentation: https://pandas.pydata.org/pandas-docs/stable/user_guide/indexing.html#returning-a-view-versus-a-copy\n",
            "  \n",
            "/usr/local/lib/python3.7/dist-packages/ipykernel_launcher.py:3: SettingWithCopyWarning: \n",
            "A value is trying to be set on a copy of a slice from a DataFrame.\n",
            "Try using .loc[row_indexer,col_indexer] = value instead\n",
            "\n",
            "See the caveats in the documentation: https://pandas.pydata.org/pandas-docs/stable/user_guide/indexing.html#returning-a-view-versus-a-copy\n",
            "  This is separate from the ipykernel package so we can avoid doing imports until\n"
          ],
          "name": "stderr"
        }
      ]
    },
    {
      "cell_type": "markdown",
      "metadata": {
        "id": "zowbuW9o5dPg"
      },
      "source": [
        "With our data now as integers, we can use the hist() method on the sneakers dataframe to check out how these variables are distributed"
      ]
    },
    {
      "cell_type": "code",
      "metadata": {
        "colab": {
          "base_uri": "https://localhost:8080/",
          "height": 965
        },
        "id": "WwxRppi9tTP5",
        "outputId": "bfd4afff-90e3-42bc-ca62-d363132a2811"
      },
      "source": [
        "%matplotlib inline\n",
        "import matplotlib.pyplot as plt\n",
        "sneakers.hist(bins=50, figsize=(20,15))\n"
      ],
      "execution_count": null,
      "outputs": [
        {
          "output_type": "execute_result",
          "data": {
            "text/plain": [
              "array([[<matplotlib.axes._subplots.AxesSubplot object at 0x7f5d4b3b41d0>,\n",
              "        <matplotlib.axes._subplots.AxesSubplot object at 0x7f5d4ae68f90>],\n",
              "       [<matplotlib.axes._subplots.AxesSubplot object at 0x7f5d4acdfcd0>,\n",
              "        <matplotlib.axes._subplots.AxesSubplot object at 0x7f5d4ac9db10>]],\n",
              "      dtype=object)"
            ]
          },
          "metadata": {
            "tags": []
          },
          "execution_count": 36
        },
        {
          "output_type": "display_data",
          "data": {
            "image/png": "[encoded data removed]",
            "text/plain": [
              "<Figure size 1440x1080 with 4 Axes>"
            ]
          },
          "metadata": {
            "tags": [],
            "needs_background": "light"
          }
        }
      ]
    },
    {
      "cell_type": "markdown",
      "metadata": {
        "id": "ywxqoZIX4fSy"
      },
      "source": [
        "Looking at the histogram for the shop_id plot shows that all these different shops receive similar traffic. \n",
        "\n",
        "Now, turning attention to total_items, there seems to be a few instances in which a customer ordered approximately 2000 items in a single order! This might be due to re-sellers who purchase from particular e-shops and sell locally. Regardless of the reason, the presence of each would definitely skew our naive calculation of AOV towards a much higher value than what the average and our understanding of normal distributions would suggest. These data points are not representative of the general data and may actually inhibit our ability to model and interpret the data. In other words, assuming we are interested in using the AOV for use in analyzing the typical customer, inclusion of these outliers would be to the model's detriment so let's get rid of them. The question now becomes what numerical threshold should be applied as a filter (e.g. total_items < threshold) to the total_items to seperate the outliers. Since customers do not typically buy more than a couple pair of sneakers at a time, let's set this threshold to 10 first and peek at the data to again check the distribution of total_items."
      ]
    },
    {
      "cell_type": "code",
      "metadata": {
        "colab": {
          "base_uri": "https://localhost:8080/"
        },
        "id": "TJcJxTYt7eG1",
        "outputId": "04c40e9e-d9f2-43f1-f386-16e2bef060e9"
      },
      "source": [
        "clean_sneakers = sneakers[sneakers[\"total_items\"] < 10]\n",
        "clean_sneakers.info()"
      ],
      "execution_count": null,
      "outputs": [
        {
          "output_type": "stream",
          "text": [
            "<class 'pandas.core.frame.DataFrame'>\n",
            "Int64Index: 4983 entries, 1 to 5000\n",
            "Data columns (total 7 columns):\n",
            " #   Column          Non-Null Count  Dtype \n",
            "---  ------          --------------  ----- \n",
            " 0   order_id        4983 non-null   object\n",
            " 1   shop_id         4983 non-null   int64 \n",
            " 2   user_id         4983 non-null   object\n",
            " 3   order_amount    4983 non-null   int64 \n",
            " 4   total_items     4983 non-null   int64 \n",
            " 5   payment_method  4983 non-null   object\n",
            " 6   created_at      4983 non-null   object\n",
            "dtypes: int64(3), object(4)\n",
            "memory usage: 311.4+ KB\n"
          ],
          "name": "stdout"
        }
      ]
    },
    {
      "cell_type": "markdown",
      "metadata": {
        "id": "bvg4oKFI8Vr5"
      },
      "source": [
        "Great! It looks like there were 17 entries which exceeded 10 items. \n",
        "\n",
        "Let's replot our histogram for the order_amount to get a fresh histogram from our filtered data. Furthermore let's use pandas' describe method to get some valuable information about the data.\n",
        "\n"
      ]
    },
    {
      "cell_type": "code",
      "metadata": {
        "colab": {
          "base_uri": "https://localhost:8080/",
          "height": 1000
        },
        "id": "zc8yuiw484PY",
        "outputId": "5a71fa03-9c35-4acd-f756-f2fc9f1f0e2c"
      },
      "source": [
        "clean_sneakers.hist(bins=50, figsize=(20,15))\n",
        "clean_sneakers.describe()"
      ],
      "execution_count": null,
      "outputs": [
        {
          "output_type": "execute_result",
          "data": {
            "text/html": [
              "<div>\n",
              "<style scoped>\n",
              "    .dataframe tbody tr th:only-of-type {\n",
              "        vertical-align: middle;\n",
              "    }\n",
              "\n",
              "    .dataframe tbody tr th {\n",
              "        vertical-align: top;\n",
              "    }\n",
              "\n",
              "    .dataframe thead th {\n",
              "        text-align: right;\n",
              "    }\n",
              "</style>\n",
              "<table border=\"1\" class=\"dataframe\">\n",
              "  <thead>\n",
              "    <tr style=\"text-align: right;\">\n",
              "      <th></th>\n",
              "      <th>shop_id</th>\n",
              "      <th>order_amount</th>\n",
              "      <th>total_items</th>\n",
              "    </tr>\n",
              "  </thead>\n",
              "  <tbody>\n",
              "    <tr>\n",
              "      <th>count</th>\n",
              "      <td>4983.000000</td>\n",
              "      <td>4983.000000</td>\n",
              "      <td>4983.00000</td>\n",
              "    </tr>\n",
              "    <tr>\n",
              "      <th>mean</th>\n",
              "      <td>50.106362</td>\n",
              "      <td>754.091913</td>\n",
              "      <td>1.99398</td>\n",
              "    </tr>\n",
              "    <tr>\n",
              "      <th>std</th>\n",
              "      <td>29.051718</td>\n",
              "      <td>5314.092293</td>\n",
              "      <td>0.98318</td>\n",
              "    </tr>\n",
              "    <tr>\n",
              "      <th>min</th>\n",
              "      <td>1.000000</td>\n",
              "      <td>90.000000</td>\n",
              "      <td>1.00000</td>\n",
              "    </tr>\n",
              "    <tr>\n",
              "      <th>25%</th>\n",
              "      <td>24.000000</td>\n",
              "      <td>163.000000</td>\n",
              "      <td>1.00000</td>\n",
              "    </tr>\n",
              "    <tr>\n",
              "      <th>50%</th>\n",
              "      <td>50.000000</td>\n",
              "      <td>284.000000</td>\n",
              "      <td>2.00000</td>\n",
              "    </tr>\n",
              "    <tr>\n",
              "      <th>75%</th>\n",
              "      <td>75.000000</td>\n",
              "      <td>390.000000</td>\n",
              "      <td>3.00000</td>\n",
              "    </tr>\n",
              "    <tr>\n",
              "      <th>max</th>\n",
              "      <td>100.000000</td>\n",
              "      <td>154350.000000</td>\n",
              "      <td>8.00000</td>\n",
              "    </tr>\n",
              "  </tbody>\n",
              "</table>\n",
              "</div>"
            ],
            "text/plain": [
              "0          shop_id   order_amount  total_items\n",
              "count  4983.000000    4983.000000   4983.00000\n",
              "mean     50.106362     754.091913      1.99398\n",
              "std      29.051718    5314.092293      0.98318\n",
              "min       1.000000      90.000000      1.00000\n",
              "25%      24.000000     163.000000      1.00000\n",
              "50%      50.000000     284.000000      2.00000\n",
              "75%      75.000000     390.000000      3.00000\n",
              "max     100.000000  154350.000000      8.00000"
            ]
          },
          "metadata": {
            "tags": []
          },
          "execution_count": 42
        },
        {
          "output_type": "display_data",
          "data": {
            "image/png": "[encoded data removed]",
            "text/plain": [
              "<Figure size 1440x1080 with 4 Axes>"
            ]
          },
          "metadata": {
            "tags": [],
            "needs_background": "light"
          }
        }
      ]
    },
    {
      "cell_type": "markdown",
      "metadata": {
        "id": "rDHXnEb183pi"
      },
      "source": [
        "Great! total_items seems to have a more familiar and normal looking distribution now. It is skewed to the lower digits however, which makes sense as sneakers aren't an item which the average customer typically buys a surplus of. \n",
        "\n",
        "Finally let's turn our attention to our order_amount histogram. Here, we notice a few things, in particular, there are a few orders whose prices are through the roof (> 20,000)! I would personally place a pair of sneakers between 50 at minimum and 300 at maximum. Using these numbers along with the table created by the describe method above as a reference, we can see that even if we bought 8 pairs of sneakers - the maximum number in the total_items column - the cost shouldn't exceed 2,400 $ (i.e. 8*300 = 2400), however, the histogram shows order_amounts appoximately 10 times this amount or even higher. Therefore, there are a few sneakers sold by shops which are extremely expensive relative to the common pair of shoes. Re-iterating the previous text-block, we should filter this data out as they are not good representatives of this population. Therefore, let's remove these points as well using an order_amount threshold of 2500, 100 more than our estimate to loosen our filterig condition slightly."
      ]
    },
    {
      "cell_type": "code",
      "metadata": {
        "colab": {
          "base_uri": "https://localhost:8080/"
        },
        "id": "OrW_ycm0CuTB",
        "outputId": "b57eca16-b8f1-43e8-b6a9-809669b48e7d"
      },
      "source": [
        "cleaner_sneakers = clean_sneakers[sneakers[\"order_amount\"] < 2500]\n",
        "cleaner_sneakers.info()"
      ],
      "execution_count": null,
      "outputs": [
        {
          "output_type": "stream",
          "text": [
            "<class 'pandas.core.frame.DataFrame'>\n",
            "Int64Index: 4937 entries, 1 to 5000\n",
            "Data columns (total 7 columns):\n",
            " #   Column          Non-Null Count  Dtype \n",
            "---  ------          --------------  ----- \n",
            " 0   order_id        4937 non-null   object\n",
            " 1   shop_id         4937 non-null   int64 \n",
            " 2   user_id         4937 non-null   object\n",
            " 3   order_amount    4937 non-null   int64 \n",
            " 4   total_items     4937 non-null   int64 \n",
            " 5   payment_method  4937 non-null   object\n",
            " 6   created_at      4937 non-null   object\n",
            "dtypes: int64(3), object(4)\n",
            "memory usage: 308.6+ KB\n"
          ],
          "name": "stdout"
        },
        {
          "output_type": "stream",
          "text": [
            "/usr/local/lib/python3.7/dist-packages/ipykernel_launcher.py:1: UserWarning: Boolean Series key will be reindexed to match DataFrame index.\n",
            "  \"\"\"Entry point for launching an IPython kernel.\n"
          ],
          "name": "stderr"
        }
      ]
    },
    {
      "cell_type": "markdown",
      "metadata": {
        "id": "68VYkCFSD50q"
      },
      "source": [
        "46 Entries were removed. Let's see our histograms once more."
      ]
    },
    {
      "cell_type": "code",
      "metadata": {
        "colab": {
          "base_uri": "https://localhost:8080/",
          "height": 1000
        },
        "id": "Jz5T0lJjDwRI",
        "outputId": "d92c79aa-e5d6-4603-c139-047ae8ab03ae"
      },
      "source": [
        "cleaner_sneakers.hist(bins=50, figsize=(20,15))\n",
        "cleaner_sneakers.describe()"
      ],
      "execution_count": null,
      "outputs": [
        {
          "output_type": "execute_result",
          "data": {
            "text/html": [
              "<div>\n",
              "<style scoped>\n",
              "    .dataframe tbody tr th:only-of-type {\n",
              "        vertical-align: middle;\n",
              "    }\n",
              "\n",
              "    .dataframe tbody tr th {\n",
              "        vertical-align: top;\n",
              "    }\n",
              "\n",
              "    .dataframe thead th {\n",
              "        text-align: right;\n",
              "    }\n",
              "</style>\n",
              "<table border=\"1\" class=\"dataframe\">\n",
              "  <thead>\n",
              "    <tr style=\"text-align: right;\">\n",
              "      <th></th>\n",
              "      <th>shop_id</th>\n",
              "      <th>order_amount</th>\n",
              "      <th>total_items</th>\n",
              "    </tr>\n",
              "  </thead>\n",
              "  <tbody>\n",
              "    <tr>\n",
              "      <th>count</th>\n",
              "      <td>4937.000000</td>\n",
              "      <td>4937.000000</td>\n",
              "      <td>4937.000000</td>\n",
              "    </tr>\n",
              "    <tr>\n",
              "      <th>mean</th>\n",
              "      <td>49.846465</td>\n",
              "      <td>302.580514</td>\n",
              "      <td>1.994734</td>\n",
              "    </tr>\n",
              "    <tr>\n",
              "      <th>std</th>\n",
              "      <td>29.061131</td>\n",
              "      <td>160.804912</td>\n",
              "      <td>0.982821</td>\n",
              "    </tr>\n",
              "    <tr>\n",
              "      <th>min</th>\n",
              "      <td>1.000000</td>\n",
              "      <td>90.000000</td>\n",
              "      <td>1.000000</td>\n",
              "    </tr>\n",
              "    <tr>\n",
              "      <th>25%</th>\n",
              "      <td>24.000000</td>\n",
              "      <td>163.000000</td>\n",
              "      <td>1.000000</td>\n",
              "    </tr>\n",
              "    <tr>\n",
              "      <th>50%</th>\n",
              "      <td>50.000000</td>\n",
              "      <td>284.000000</td>\n",
              "      <td>2.000000</td>\n",
              "    </tr>\n",
              "    <tr>\n",
              "      <th>75%</th>\n",
              "      <td>74.000000</td>\n",
              "      <td>387.000000</td>\n",
              "      <td>3.000000</td>\n",
              "    </tr>\n",
              "    <tr>\n",
              "      <th>max</th>\n",
              "      <td>100.000000</td>\n",
              "      <td>1760.000000</td>\n",
              "      <td>8.000000</td>\n",
              "    </tr>\n",
              "  </tbody>\n",
              "</table>\n",
              "</div>"
            ],
            "text/plain": [
              "0          shop_id  order_amount  total_items\n",
              "count  4937.000000   4937.000000  4937.000000\n",
              "mean     49.846465    302.580514     1.994734\n",
              "std      29.061131    160.804912     0.982821\n",
              "min       1.000000     90.000000     1.000000\n",
              "25%      24.000000    163.000000     1.000000\n",
              "50%      50.000000    284.000000     2.000000\n",
              "75%      74.000000    387.000000     3.000000\n",
              "max     100.000000   1760.000000     8.000000"
            ]
          },
          "metadata": {
            "tags": []
          },
          "execution_count": 44
        },
        {
          "output_type": "display_data",
          "data": {
            "image/png": "[encoded data removed]",
            "text/plain": [
              "<Figure size 1440x1080 with 4 Axes>"
            ]
          },
          "metadata": {
            "tags": [],
            "needs_background": "light"
          }
        }
      ]
    },
    {
      "cell_type": "markdown",
      "metadata": {
        "id": "YoxJuFbOECIP"
      },
      "source": [
        "Excellent! Our order_amount has a more familiar and normal distribution. Again it is skewed to the left which makes sense given the total_item is also skewed in the same manner as the order_amount is propotional to the total_items bought. Using our cleaned up dataframe, 'cleaner_sneakers', let's recalcalculate the AOV."
      ]
    },
    {
      "cell_type": "markdown",
      "metadata": {
        "id": "cT-BygHEJdwB"
      },
      "source": [
        "## Recalculate AOV"
      ]
    },
    {
      "cell_type": "code",
      "metadata": {
        "colab": {
          "base_uri": "https://localhost:8080/"
        },
        "id": "Fhh1DKGoE7J8",
        "outputId": "01e5f89c-21e8-4086-83f9-b5388f4ae8f8"
      },
      "source": [
        "round(cleaner_sneakers.loc[:,'order_amount'].sum(axis = 0)/len(sneakers), 2)"
      ],
      "execution_count": null,
      "outputs": [
        {
          "output_type": "execute_result",
          "data": {
            "text/plain": [
              "298.77"
            ]
          },
          "metadata": {
            "tags": []
          },
          "execution_count": 50
        }
      ]
    },
    {
      "cell_type": "markdown",
      "metadata": {
        "id": "0ehAJlGbGwVk"
      },
      "source": [
        "The AOV is 298.77 which is definitely a more suitable AOV when gauging the typical customer! Let's move on to the questions for this section."
      ]
    },
    {
      "cell_type": "markdown",
      "metadata": {
        "id": "LqtMH3gKM9VX"
      },
      "source": [
        "## Q1.1"
      ]
    },
    {
      "cell_type": "markdown",
      "metadata": {
        "id": "3XsW0-uEM75-"
      },
      "source": [
        "Therefore, what was wrong with the calculation was we had a number of outliers skewing the data to ~ 3000 $."
      ]
    },
    {
      "cell_type": "markdown",
      "metadata": {
        "id": "8dta4s-KM_mQ"
      },
      "source": [
        "## Q1.2"
      ]
    },
    {
      "cell_type": "markdown",
      "metadata": {
        "id": "ZYNHr50qZTwa"
      },
      "source": [
        "Assuming we are interested in getting a single number to represent the 100 sneaker stores over a 30-day window, we can use the median order value as it will not be skewed towards the extreme ends of the dataset with the small number of outliers present. Rather than just talk about it, let's show that this is the case for this dataset."
      ]
    },
    {
      "cell_type": "markdown",
      "metadata": {
        "id": "x_xHuVaAN-Yj"
      },
      "source": [
        "## Q1.3"
      ]
    },
    {
      "cell_type": "code",
      "metadata": {
        "colab": {
          "base_uri": "https://localhost:8080/"
        },
        "id": "rKXixYtRNPWo",
        "outputId": "ce907551-753e-4a16-fa93-3fed95d443cf"
      },
      "source": [
        "sneakers.loc[int(len(sneakers))/2, 'order_amount']"
      ],
      "execution_count": null,
      "outputs": [
        {
          "output_type": "execute_result",
          "data": {
            "text/plain": [
              "276"
            ]
          },
          "metadata": {
            "tags": []
          },
          "execution_count": 51
        }
      ]
    },
    {
      "cell_type": "markdown",
      "metadata": {
        "id": "_c8qfIEcNiqa"
      },
      "source": [
        "The median order value is 276 which captures this datasets order value as a whole much better than the AOV does (without additional filtering) and is similar in value to the AOV (with additional filtering)"
      ]
    },
    {
      "cell_type": "markdown",
      "metadata": {
        "id": "yIgc_2bFOIez"
      },
      "source": [
        "## Question 2\n",
        "\n",
        "For this question you’ll need to use SQL. Follow this link to access the data set required for the challenge. Please use queries to answer the following questions. Paste your queries along with your final numerical answers below.\n",
        "\n",
        "1. How many orders were shipped by Speedy Express in total?\n",
        "2. What is the last name of the employee with the most orders?\n",
        "3. What product was ordered the most by customers in Germany?\n"
      ]
    },
    {
      "cell_type": "markdown",
      "metadata": {
        "id": "32GlHGbpO2e_"
      },
      "source": [
        "## Q2.1"
      ]
    },
    {
      "cell_type": "markdown",
      "metadata": {
        "id": "mhUyRJJYO6yh"
      },
      "source": [
        "Taking a look at the Orders and Shippers tables shows that they are related by the ShipperID. So we can join two tables and filter to count the orders by the \"Speedy Express\" company alone."
      ]
    },
    {
      "cell_type": "code",
      "metadata": {
        "id": "zgCbsvGbOxPM"
      },
      "source": [
        "SELECT COUNT(*) AS NumOrders\n",
        "FROM [Orders]\n",
        "JOIN [Shippers]\n",
        "    ON [Shippers].ShipperID = [Orders].ShipperID\n",
        "WHERE [Shippers].ShipperName = 'Speedy Express'"
      ],
      "execution_count": null,
      "outputs": []
    },
    {
      "cell_type": "markdown",
      "metadata": {
        "id": "PiBOylebPoXU"
      },
      "source": [
        "Using this query, we know that \"Speedy Express\" shipped  54 items.\n",
        "\n"
      ]
    },
    {
      "cell_type": "markdown",
      "metadata": {
        "id": "-LHPXYm-RJEM"
      },
      "source": [
        "## Q2.2"
      ]
    },
    {
      "cell_type": "markdown",
      "metadata": {
        "id": "o4_olVXcRqDx"
      },
      "source": [
        "Taking a look at the Employees and Orders tables shows they are related by the EmployeeID. So we can join the two tables, group the entries by the lastname of the employee who fulfilled the order in descending order and taking the top entry of the resultant table. "
      ]
    },
    {
      "cell_type": "code",
      "metadata": {
        "id": "urwddaDSPjwK"
      },
      "source": [
        "SELECT [Employees].LastName, COUNT(*) AS NumOrders\n",
        "FROM [Orders]\n",
        "JOIN [Employees]\n",
        "ON [Orders].EmployeeID = [Employees].EmployeeID\n",
        "GROUP BY [Employees].LastName\n",
        "ORDER BY NumOrders DESC\n",
        "LIMIT 1"
      ],
      "execution_count": null,
      "outputs": []
    },
    {
      "cell_type": "markdown",
      "metadata": {
        "id": "59R_oN5kUCgO"
      },
      "source": [
        "Using this query, we know that the last name of the employee with the most orders is \"Peacock\" with 40 orders."
      ]
    },
    {
      "cell_type": "markdown",
      "metadata": {
        "id": "AhOP8jT-RNbQ"
      },
      "source": [
        "## Q2.3"
      ]
    },
    {
      "cell_type": "markdown",
      "metadata": {
        "id": "Lv1FYsXmh-wy"
      },
      "source": [
        "This question is a little more involved. In order to determine the product ordered the most in Germany we need to ...\n",
        "\n",
        "* somehow connect the Customers table to the Products table where the names and ProductID can be found.\n",
        "\n",
        "* filter the Customers table WHERE Country is Germany as this is the only table holding customer country information. \n",
        "\n",
        "Let's start simple with just getting all the products ordered in Germany first as we can easily get the count of each product after this (described in the next text block).\n",
        "\n",
        "To accomplish the first point we need to distinguish the relationship between Customers and Products. Looking through the tables we can find the following relationship:\n",
        "\n",
        "Customers <-- OrderDetails --> Orders --> Products\n",
        "\n",
        "In words...\n",
        "* The Customers table primary key is a foreign key of the OrderDetails table, namely the CustomerID column\n",
        "* The Orders table primary key is a foreign key of the OrderDetails table, namely the OrderID column\n",
        "* The products table primary key is a foreign key of the Orders table, namely the ProductsID column\n",
        "\n",
        "Therefore we know we will have to join the Customers table to the Products table using the OrderDetails and Orders tables acting as junctions through the keys mentioned above.\n",
        "\n",
        "To accomplish the second bullet point, we can simply use the WHERE keyword following our JOIN operations to filter for products bought from Customers in Germany.\n",
        "\n",
        "Using our knowledge so far we can write the following query to get a table of all the Products ordered in Germany.\n"
      ]
    },
    {
      "cell_type": "code",
      "metadata": {
        "id": "VHEZA_L9uU_o"
      },
      "source": [
        "SELECT [Products].ProductName\n",
        "FROM [Orders]\n",
        "JOIN [Customers]\n",
        "    ON [Customers].CustomerID = [Orders].CustomerID\n",
        "JOIN [OrderDetails]\n",
        "    ON [OrderDetails].OrderID = [Orders].OrderID\n",
        "JOIN [Products]\n",
        "    ON [Products].ProductID = [OrderDetails].ProductID\n",
        "WHERE [Customers].Country = 'Germany'\n",
        "GROUP BY [OrderDetails].ProductID"
      ],
      "execution_count": null,
      "outputs": []
    },
    {
      "cell_type": "markdown",
      "metadata": {
        "id": "qjWlg2w4uWNQ"
      },
      "source": [
        "That's great! However, we are interested in the product ORDERED THE MOST in Germany. Therefore, we need to somehow get a count of total quantity of each product bought in Germany. If we look at the OrderDetails table, we find the key for the quantity of each product bought. Therefore we can simply call the SUM function on the Quantity key in this table and have it display with SELECT."
      ]
    },
    {
      "cell_type": "code",
      "metadata": {
        "id": "T4CUlJLbRP5W"
      },
      "source": [
        "SELECT [Products].ProductName,\n",
        "    SUM([OrderDetails].Quantity) AS NumOrders\n",
        "FROM [Orders]\n",
        "JOIN [Customers]\n",
        "    ON [Customers].CustomerID = [Orders].CustomerID\n",
        "JOIN [OrderDetails]\n",
        "    ON [OrderDetails].OrderID = [Orders].OrderID\n",
        "JOIN [Products]\n",
        "    ON [Products].ProductID = [OrderDetails].ProductID\n",
        "WHERE [Customers].Country = 'Germany'\n",
        "GROUP BY [OrderDetails].ProductID\n",
        "ORDER BY NumOrders DESC\n",
        "LIMIT 1"
      ],
      "execution_count": null,
      "outputs": []
    },
    {
      "cell_type": "markdown",
      "metadata": {
        "id": "LXHYwz_DxO57"
      },
      "source": [
        "Using this query, we know that the product ordered the most in Germany is Boston Crab Meat with 160 orders recorded.\n",
        "\n",
        "That's all folks!"
      ]
    }
  ]
}